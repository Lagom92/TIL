{
 "cells": [
  {
   "cell_type": "markdown",
   "metadata": {},
   "source": [
    "# 5. 파이썬 심화"
   ]
  },
  {
   "cell_type": "markdown",
   "metadata": {},
   "source": [
    "### 참고\n",
    "\n",
    "Python 딕셔너리 자료형\n",
    "\n",
    "- 딕셔너리 자료형은 서로 대응 관계를 가진 데이터로 이루어진 자료형입니다.\n",
    "\n",
    "- 대응관계는 키(key)와 값(value)으로 표현"
   ]
  },
  {
   "cell_type": "code",
   "execution_count": 4,
   "metadata": {},
   "outputs": [
    {
     "output_type": "stream",
     "name": "stdout",
     "text": "{'name': 'yang', 'age': 20}\n"
    }
   ],
   "source": [
    "student = {'name': 'yang', 'age': 20}\n",
    "print(student)"
   ]
  },
  {
   "cell_type": "markdown",
   "metadata": {},
   "source": [
    "- 딕셔너리 자료형은 키로 인덱싱을 하여 접근 할 수 있다."
   ]
  },
  {
   "cell_type": "code",
   "execution_count": 10,
   "metadata": {},
   "outputs": [
    {
     "output_type": "execute_result",
     "data": {
      "text/plain": "'yang'"
     },
     "metadata": {},
     "execution_count": 10
    }
   ],
   "source": [
    "student['name']"
   ]
  },
  {
   "cell_type": "markdown",
   "metadata": {},
   "source": [
    "## JSON (JavaScript Object Notation)"
   ]
  },
  {
   "cell_type": "markdown",
   "metadata": {},
   "source": [
    "- 텍스트 데이터 형식 중 하나\n",
    "\n",
    "- 자바스크립트의 프로그래밍 언어 부분에 기반\n",
    "\n",
    "- 데이터를 효율적으로 저장하고 교환하는데 사용\n",
    "\n",
    "- 사람이 읽고 쓰기에 쉽고 컴퓨터가 파싱하고 생성하기에 쉽다.\n",
    "\n",
    "- 두개의 구조로 이루어져 있다.\n",
    "\n",
    "    - 이름 & 값\n",
    "    \n",
    "    - 정렬된 값의 리스트"
   ]
  },
  {
   "cell_type": "markdown",
   "metadata": {},
   "source": [
    "- Python  =>  JSON\n",
    "\n",
    "    list, tuple ==> array"
   ]
  },
  {
   "cell_type": "markdown",
   "metadata": {},
   "source": [
    "- JSON  =>  Python\n",
    "\n",
    "    array ==> list"
   ]
  },
  {
   "cell_type": "markdown",
   "metadata": {},
   "source": [
    "### student_file.json을 이용하여 JSON 공부하기"
   ]
  },
  {
   "cell_type": "code",
   "execution_count": 63,
   "metadata": {},
   "outputs": [],
   "source": [
    "import json\n",
    "\n",
    "# JSON 형식의 데이터를 열어 파이썬 객체로 읽어와 주는것\n",
    "with open('./data/student_file.json') as json_file:\n",
    "    json_data = json.load(json_file)"
   ]
  },
  {
   "cell_type": "code",
   "execution_count": 60,
   "metadata": {},
   "outputs": [
    {
     "output_type": "execute_result",
     "data": {
      "text/plain": "{'1.FirstName': 'JaeHwa',\n '2.LastName': 'Lee',\n '3.Age': 20,\n '4.Youtube_ch': 'AIRIM',\n '5.Courses': [{'Major_A': 'ML',\n   'Classes': ['Probability',\n    'Generalized Linear Model',\n    'Categorical Data Analysis']},\n  {'Major_B': 'Deep Learning',\n   'Classes': ['Data Structure', 'Programming', 'Algorithms']}]}"
     },
     "metadata": {},
     "execution_count": 60
    }
   ],
   "source": [
    "json_data"
   ]
  },
  {
   "cell_type": "code",
   "execution_count": 64,
   "metadata": {},
   "outputs": [],
   "source": [
    "student_data = {\n",
    "    \"1.FirstName\": \"JaeHwa\",\n",
    "    \"2.LastName\": \"Lee\",\n",
    "    \"3.Age\": 20, \n",
    "    \"4.Youtube_ch\": \"AIRIM\",\n",
    "    \"5.Courses\": [\n",
    "        {\n",
    "            \"Major_A\": \"ML\", \n",
    "            \"Classes\": [\"Probability\", \n",
    "                        \"Generalized Linear Model\", \n",
    "                        \"Categorical Data Analysis\"]\n",
    "        }, \n",
    "        {\n",
    "            \"Major_B\": \"Deep Learning\", \n",
    "            \"Classes\": [\"Data Structure\", \n",
    "                        \"Programming\", \n",
    "                        \"Algorithms\"]\n",
    "        }\n",
    "    ]\n",
    "} "
   ]
  },
  {
   "cell_type": "code",
   "execution_count": 72,
   "metadata": {},
   "outputs": [
    {
     "output_type": "stream",
     "name": "stdout",
     "text": "{\"1.FirstName\": \"JaeHwa\", \"2.LastName\": \"Lee\", \"3.Age\": 20, \"4.Youtube_ch\": \"AIRIM\", \"5.Courses\": [{\"Major_A\": \"ML\", \"Classes\": [\"Probability\", \"Generalized Linear Model\", \"Categorical Data Analysis\"]}, {\"Major_B\": \"Deep Learning\", \"Classes\": [\"Data Structure\", \"Programming\", \"Algorithms\"]}]}\n"
    }
   ],
   "source": [
    "# 파이썬 객체를 JSON 객체로 변환\n",
    "st_json = json.dumps(student_data)\n",
    "print(st_json)"
   ]
  },
  {
   "cell_type": "code",
   "execution_count": 71,
   "metadata": {},
   "outputs": [
    {
     "output_type": "stream",
     "name": "stdout",
     "text": "{\n    \"1.FirstName\": \"JaeHwa\",\n    \"2.LastName\": \"Lee\",\n    \"3.Age\": 20,\n    \"4.Youtube_ch\": \"AIRIM\",\n    \"5.Courses\": [\n        {\n            \"Classes\": [\n                \"Probability\",\n                \"Generalized Linear Model\",\n                \"Categorical Data Analysis\"\n            ],\n            \"Major_A\": \"ML\"\n        },\n        {\n            \"Classes\": [\n                \"Data Structure\",\n                \"Programming\",\n                \"Algorithms\"\n            ],\n            \"Major_B\": \"Deep Learning\"\n        }\n    ]\n}\n"
    }
   ],
   "source": [
    "# indent: 들여쓰기 설정\n",
    "# sort_keys: key 정렬\n",
    "st_json = json.dumps(student_data, indent=4, sort_keys=True)\n",
    "print(st_json)"
   ]
  },
  {
   "cell_type": "markdown",
   "metadata": {},
   "source": [
    "## OPEN API (Application Programming Interface)"
   ]
  },
  {
   "cell_type": "markdown",
   "metadata": {},
   "source": [
    "- 인터넷 이용자가 웹 검색 결과 및 사용자 인터페이스 등을 수동적으로 제공받는데 그치지 않고 직접 응용 프로그램과 서비스를 개발할 수 있도록 공개된 API\n",
    "\n",
    "- 인터넷 이용자가 웹 검색 결과 즉 데이터를 우리가 지정한 조건에 맞게끔 가져올 수 있는 도구"
   ]
  },
  {
   "cell_type": "markdown",
   "metadata": {},
   "source": [
    "- OPEN API를 활용하려면 '키' 가 필요하다.\n",
    "\n",
    "- OPEN API 사용하기\n",
    "\n",
    "    1. 필요한 데이터 확인\n",
    "\n",
    "    2. 데이터 공급형태 확인\n",
    "    \n",
    "    3. 데이터 정제"
   ]
  },
  {
   "cell_type": "markdown",
   "metadata": {},
   "source": [
    "### 영화진흥위원회 OPEN API"
   ]
  },
  {
   "cell_type": "code",
   "execution_count": 24,
   "metadata": {},
   "outputs": [],
   "source": [
    "import json\n",
    "import requests\n",
    "\n",
    "BASE_URL = \"http://www.kobis.or.kr/kobisopenapi/webservice/rest/boxoffice/searchDailyBoxOfficeList.json\"\n",
    "key = \"6c1f6a0237a968c5cc5eb22e3fe046d4\"\n",
    "date = '20200603'\n",
    "\n",
    "url = f\"{BASE_URL}?key={key}&targetDt={date}\"\n",
    "res = requests.get(url)\n",
    "text = res.text\n",
    "movie_data = json.loads(text)"
   ]
  },
  {
   "cell_type": "code",
   "execution_count": 29,
   "metadata": {},
   "outputs": [],
   "source": [
    "# print(json.dumps(movie_data, indent=4, sort_keys=True))"
   ]
  },
  {
   "cell_type": "code",
   "execution_count": 30,
   "metadata": {},
   "outputs": [
    {
     "output_type": "execute_result",
     "data": {
      "text/plain": "dict_keys(['boxOfficeResult'])"
     },
     "metadata": {},
     "execution_count": 30
    }
   ],
   "source": [
    "movie_data.keys()"
   ]
  },
  {
   "cell_type": "code",
   "execution_count": 32,
   "metadata": {},
   "outputs": [
    {
     "output_type": "execute_result",
     "data": {
      "text/plain": "dict_keys(['boxofficeType', 'showRange', 'dailyBoxOfficeList'])"
     },
     "metadata": {},
     "execution_count": 32
    }
   ],
   "source": [
    "movie_data['boxOfficeResult'].keys()"
   ]
  },
  {
   "cell_type": "code",
   "execution_count": 35,
   "metadata": {},
   "outputs": [
    {
     "output_type": "execute_result",
     "data": {
      "text/plain": "{'rnum': '1',\n 'rank': '1',\n 'rankInten': '0',\n 'rankOldAndNew': 'OLD',\n 'movieCd': '20209161',\n 'movieNm': '언더워터',\n 'openDt': '2020-05-27',\n 'salesAmt': '45434520',\n 'salesShare': '21.6',\n 'salesInten': '-2237160',\n 'salesChange': '-4.7',\n 'salesAcc': '633258280',\n 'audiCnt': '5507',\n 'audiInten': '-293',\n 'audiChange': '-5.1',\n 'audiAcc': '75841',\n 'scrnCnt': '538',\n 'showCnt': '1335'}"
     },
     "metadata": {},
     "execution_count": 35
    }
   ],
   "source": [
    "movie_data['boxOfficeResult']['dailyBoxOfficeList'][0]"
   ]
  },
  {
   "cell_type": "markdown",
   "metadata": {},
   "source": [
    "## 공공 데이터"
   ]
  },
  {
   "cell_type": "markdown",
   "metadata": {},
   "source": [
    "### 판매처별 공적 마스크 판매처 정보\n",
    "data.go.kr"
   ]
  },
  {
   "cell_type": "code",
   "execution_count": 43,
   "metadata": {
    "tags": [
     "outputPrepend"
    ]
   },
   "outputs": [],
   "source": [
    "mask_url = \"https://8oi9s0nnth.apigw.ntruss.com/corona19-masks/v1/sales/json?page=1&perPage=500\"\n",
    "\n",
    "mask_text = requests.get(mask_url).text\n",
    "mask_data = json.loads(mask_text)\n",
    "# print(json.dumps(mask_data, indent=4, sort_keys=True))"
   ]
  },
  {
   "cell_type": "code",
   "execution_count": 44,
   "metadata": {},
   "outputs": [
    {
     "output_type": "execute_result",
     "data": {
      "text/plain": "dict_keys(['count', 'page', 'sales', 'totalCount', 'totalPages'])"
     },
     "metadata": {},
     "execution_count": 44
    }
   ],
   "source": [
    "mask_data.keys()"
   ]
  },
  {
   "cell_type": "code",
   "execution_count": 57,
   "metadata": {},
   "outputs": [],
   "source": [
    "import pandas as pd\n",
    "\n",
    "mask_list = []\n",
    "for i in mask_data['sales']:\n",
    "  mask_list.append([i['created_at'], i['code'], i['remain_stat']])\n",
    "\n",
    "mask_df = pd.DataFrame(mask_list)\n",
    "mask_df.columns = ['created_at', 'code', 'remain_stat']"
   ]
  },
  {
   "cell_type": "code",
   "execution_count": 58,
   "metadata": {},
   "outputs": [
    {
     "output_type": "execute_result",
     "data": {
      "text/plain": "            created_at      code remain_stat\n0  2020/06/04 21:25:00  31837492       break\n1  2020/06/04 21:25:00  21836841      plenty\n2  2020/06/04 21:25:00  37839128      plenty\n3  2020/06/04 21:25:00  11831049      plenty\n4  2020/06/04 21:25:00  21839271      plenty",
      "text/html": "<div>\n<style scoped>\n    .dataframe tbody tr th:only-of-type {\n        vertical-align: middle;\n    }\n\n    .dataframe tbody tr th {\n        vertical-align: top;\n    }\n\n    .dataframe thead th {\n        text-align: right;\n    }\n</style>\n<table border=\"1\" class=\"dataframe\">\n  <thead>\n    <tr style=\"text-align: right;\">\n      <th></th>\n      <th>created_at</th>\n      <th>code</th>\n      <th>remain_stat</th>\n    </tr>\n  </thead>\n  <tbody>\n    <tr>\n      <th>0</th>\n      <td>2020/06/04 21:25:00</td>\n      <td>31837492</td>\n      <td>break</td>\n    </tr>\n    <tr>\n      <th>1</th>\n      <td>2020/06/04 21:25:00</td>\n      <td>21836841</td>\n      <td>plenty</td>\n    </tr>\n    <tr>\n      <th>2</th>\n      <td>2020/06/04 21:25:00</td>\n      <td>37839128</td>\n      <td>plenty</td>\n    </tr>\n    <tr>\n      <th>3</th>\n      <td>2020/06/04 21:25:00</td>\n      <td>11831049</td>\n      <td>plenty</td>\n    </tr>\n    <tr>\n      <th>4</th>\n      <td>2020/06/04 21:25:00</td>\n      <td>21839271</td>\n      <td>plenty</td>\n    </tr>\n  </tbody>\n</table>\n</div>"
     },
     "metadata": {},
     "execution_count": 58
    }
   ],
   "source": [
    "mask_df.head()"
   ]
  }
 ],
 "metadata": {
  "language_info": {
   "codemirror_mode": {
    "name": "ipython",
    "version": 3
   },
   "file_extension": ".py",
   "mimetype": "text/x-python",
   "name": "python",
   "nbconvert_exporter": "python",
   "pygments_lexer": "ipython3",
   "version": "3.7.6-final"
  },
  "orig_nbformat": 2,
  "kernelspec": {
   "name": "python37664bitd6c49ce9a0fb4da9a60aa5dde01a050b",
   "display_name": "Python 3.7.6 64-bit"
  }
 },
 "nbformat": 4,
 "nbformat_minor": 2
}