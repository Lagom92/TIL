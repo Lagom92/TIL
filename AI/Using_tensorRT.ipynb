{
 "cells": [
  {
   "cell_type": "markdown",
   "metadata": {},
   "source": [
    "# Using TensorRT "
   ]
  },
  {
   "cell_type": "markdown",
   "metadata": {},
   "source": [
    "DenseNet201로 학습된 모델의 Inference 성능 향상을 위해 TensroRT를 사용해보자"
   ]
  },
  {
   "cell_type": "code",
   "execution_count": 1,
   "metadata": {},
   "outputs": [],
   "source": [
    "import tensorflow as tf\n",
    "import numpy as np\n",
    "import time\n",
    "import os\n",
    "\n",
    "from tqdm import tqdm\n",
    "from tensorflow.python.saved_model import tag_constants"
   ]
  },
  {
   "cell_type": "code",
   "execution_count": 2,
   "metadata": {},
   "outputs": [],
   "source": [
    "# !pip install tensorflow==2.0.0"
   ]
  },
  {
   "cell_type": "code",
   "execution_count": 3,
   "metadata": {},
   "outputs": [
    {
     "data": {
      "text/plain": [
       "'2.0.0'"
      ]
     },
     "execution_count": 3,
     "metadata": {},
     "output_type": "execute_result"
    }
   ],
   "source": [
    "import tensorflow as tf\n",
    "tf.__version__"
   ]
  },
  {
   "cell_type": "code",
   "execution_count": 4,
   "metadata": {},
   "outputs": [],
   "source": [
    "# !nvidia-smi"
   ]
  },
  {
   "cell_type": "code",
   "execution_count": 5,
   "metadata": {},
   "outputs": [],
   "source": [
    "# check TensorRT version\n",
    "# print(\"TensorRT version: \")\n",
    "# !dpkg -l | grep nvinfer"
   ]
  },
  {
   "cell_type": "code",
   "execution_count": 6,
   "metadata": {},
   "outputs": [],
   "source": [
    "# from tensorflow.python.client import device_lib\n",
    "\n",
    "# def check_tensor_core_gpu_present():\n",
    "#     local_device_protos = device_lib.list_local_devices()\n",
    "#     for line in local_device_protos:\n",
    "#         if \"compute capability\" in str(line):\n",
    "#             compute_capability = float(line.physical_device_desc.split(\"compute capability: \")[-1])\n",
    "#             if compute_capability>=7.0:\n",
    "#                 return True\n",
    "    \n",
    "# print(\"Tensor Core GPU Present:\", check_tensor_core_gpu_present())\n",
    "# tensor_core_gpu = check_tensor_core_gpu_present()"
   ]
  },
  {
   "cell_type": "markdown",
   "metadata": {},
   "source": [
    "## PREDICT"
   ]
  },
  {
   "cell_type": "code",
   "execution_count": 7,
   "metadata": {},
   "outputs": [],
   "source": [
    "img_size = (299, 299)\n",
    "label_list = ['COVID','non-COVID']"
   ]
  },
  {
   "cell_type": "code",
   "execution_count": 8,
   "metadata": {},
   "outputs": [],
   "source": [
    "# LOAD model\n",
    "model = tf.keras.models.load_model('./model/saved_model')"
   ]
  },
  {
   "cell_type": "code",
   "execution_count": 9,
   "metadata": {},
   "outputs": [],
   "source": [
    "# !saved_model_cli show --all --dir model/saved_model"
   ]
  },
  {
   "cell_type": "code",
   "execution_count": 16,
   "metadata": {},
   "outputs": [],
   "source": [
    "# image path\n",
    "\n",
    "# COVID\n",
    "# image_path=\"data/TRAIN/COVID/0.jpeg\"\n",
    "\n",
    "# NON-COVID\n",
    "image_path = \"data/TRAIN/non-COVID/00293de0-a530-41dc-9621-0b3def01d06d.jpg\""
   ]
  },
  {
   "cell_type": "code",
   "execution_count": 17,
   "metadata": {},
   "outputs": [],
   "source": [
    "# LOAD image and data preprocessing\n",
    "start_time = time.time()\n",
    "\n",
    "img = tf.keras.preprocessing.image.load_img(image_path, target_size=img_size)\n",
    "img = tf.keras.preprocessing.image.img_to_array(img)\n",
    "img /= 255.0\n",
    "img = np.expand_dims(img, axis=0)\n",
    "\n",
    "prediction = model.predict(img)\n",
    "\n",
    "end_time = time.time()"
   ]
  },
  {
   "cell_type": "code",
   "execution_count": 18,
   "metadata": {},
   "outputs": [
    {
     "name": "stdout",
     "output_type": "stream",
     "text": [
      "경과 시간:  0.6367158889770508\n"
     ]
    }
   ],
   "source": [
    "elapsed_time = end_time - start_time\n",
    "\n",
    "print(\"경과 시간: \", elapsed_time)"
   ]
  },
  {
   "cell_type": "code",
   "execution_count": 19,
   "metadata": {},
   "outputs": [
    {
     "name": "stdout",
     "output_type": "stream",
     "text": [
      "prediction:  [[0.9992717]]\n",
      "val:  0.9992716908454895\n"
     ]
    }
   ],
   "source": [
    "print(\"prediction: \", prediction)\n",
    "\n",
    "val = prediction.item(0)\n",
    "\n",
    "print(\"val: \", val)"
   ]
  },
  {
   "cell_type": "code",
   "execution_count": 20,
   "metadata": {},
   "outputs": [
    {
     "name": "stdout",
     "output_type": "stream",
     "text": [
      "idx:  1\n"
     ]
    }
   ],
   "source": [
    "idx = int(np.round(val))\n",
    "\n",
    "print(\"idx: \", idx)"
   ]
  },
  {
   "cell_type": "code",
   "execution_count": 21,
   "metadata": {},
   "outputs": [
    {
     "name": "stdout",
     "output_type": "stream",
     "text": [
      "label:  non-COVID\n"
     ]
    }
   ],
   "source": [
    "label = label_list[idx]\n",
    "\n",
    "print(\"label: \", label)"
   ]
  },
  {
   "cell_type": "markdown",
   "metadata": {},
   "source": [
    "# TensorRT"
   ]
  },
  {
   "cell_type": "markdown",
   "metadata": {},
   "source": [
    "## TF-TRT FP32 model"
   ]
  },
  {
   "cell_type": "code",
   "execution_count": 22,
   "metadata": {},
   "outputs": [],
   "source": [
    "import tensorflow as tf\n",
    "import numpy as np\n",
    "import time\n",
    "import os\n",
    "\n",
    "from tqdm import tqdm\n",
    "from tensorflow.python.saved_model import tag_constants\n",
    "from tensorflow.python.compiler.tensorrt import trt_convert as trt"
   ]
  },
  {
   "cell_type": "code",
   "execution_count": 23,
   "metadata": {},
   "outputs": [
    {
     "name": "stdout",
     "output_type": "stream",
     "text": [
      "Converting to TF-TRT FP32...\n",
      "INFO:tensorflow:Linked TensorRT version: (0, 0, 0)\n",
      "INFO:tensorflow:Loaded TensorRT version: (0, 0, 0)\n",
      "INFO:tensorflow:Running against TensorRT version 0.0.0\n",
      "WARNING:tensorflow:From /home/u00u654hgv0t5GGDLF357/.local/lib/python3.6/site-packages/tensorflow_core/python/ops/resource_variable_ops.py:1781: calling BaseResourceVariable.__init__ (from tensorflow.python.ops.resource_variable_ops) with constraint is deprecated and will be removed in a future version.\n",
      "Instructions for updating:\n",
      "If using Keras pass *_constraint arguments to layers.\n",
      "INFO:tensorflow:Assets written to: ./model/FP32_saved_model/assets\n"
     ]
    }
   ],
   "source": [
    "print('Converting to TF-TRT FP32...')\n",
    "conversion_params = trt.DEFAULT_TRT_CONVERSION_PARAMS._replace(precision_mode=trt.TrtPrecisionMode.FP32,\n",
    "                                                               max_workspace_size_bytes=8000000000)\n",
    "\n",
    "converter = trt.TrtGraphConverterV2(input_saved_model_dir='./model/saved_model',\n",
    "                                    conversion_params=conversion_params)\n",
    "\n",
    "converter.convert()\n",
    "converter.save(output_saved_model_dir='./model/FP32_saved_model')"
   ]
  },
  {
   "cell_type": "code",
   "execution_count": 24,
   "metadata": {},
   "outputs": [
    {
     "name": "stdout",
     "output_type": "stream",
     "text": [
      "\n",
      "MetaGraphDef with tag-set: 'serve' contains the following SignatureDefs:\n",
      "\n",
      "signature_def['__saved_model_init_op']:\n",
      "  The given SavedModel SignatureDef contains the following input(s):\n",
      "  The given SavedModel SignatureDef contains the following output(s):\n",
      "    outputs['__saved_model_init_op'] tensor_info:\n",
      "        dtype: DT_INVALID\n",
      "        shape: unknown_rank\n",
      "        name: NoOp\n",
      "  Method name is: \n",
      "\n",
      "signature_def['serving_default']:\n",
      "  The given SavedModel SignatureDef contains the following input(s):\n",
      "    inputs['input_3'] tensor_info:\n",
      "        dtype: DT_FLOAT\n",
      "        shape: (-1, 299, 299, 3)\n",
      "        name: serving_default_input_3:0\n",
      "  The given SavedModel SignatureDef contains the following output(s):\n",
      "    outputs['model_3'] tensor_info:\n",
      "        dtype: DT_FLOAT\n",
      "        shape: (-1, 1)\n",
      "        name: PartitionedCall:0\n",
      "  Method name is: tensorflow/serving/predict\n"
     ]
    }
   ],
   "source": [
    "!saved_model_cli show --all --dir model/FP32_saved_model"
   ]
  },
  {
   "cell_type": "code",
   "execution_count": 25,
   "metadata": {},
   "outputs": [],
   "source": [
    "# LOAD FP32 saved model\n",
    "input_saved_model = \"./model/FP32_saved_model\"\n",
    "\n",
    "saved_model_loaded = tf.saved_model.load(input_saved_model, tags=[tag_constants.SERVING])"
   ]
  },
  {
   "cell_type": "code",
   "execution_count": 26,
   "metadata": {},
   "outputs": [
    {
     "name": "stdout",
     "output_type": "stream",
     "text": [
      "(1, 299, 299, 3)\n"
     ]
    }
   ],
   "source": [
    "img_size = (299, 299)\n",
    "label_list = ['COVID','non-COVID']\n",
    "\n",
    "# image path - COVID\n",
    "# image_path=\"data/TRAIN/COVID/0.jpeg\"\n",
    "\n",
    "# image path - NON-COVID\n",
    "image_path = \"data/TRAIN/non-COVID/00293de0-a530-41dc-9621-0b3def01d06d.jpg\"\n",
    "\n",
    "# LOAD image and data preprocessing\n",
    "img = tf.keras.preprocessing.image.load_img(image_path, target_size=img_size)\n",
    "img = tf.keras.preprocessing.image.img_to_array(img)\n",
    "img /= 255.0\n",
    "img = np.expand_dims(img, axis=0)\n",
    "img = tf.constant(img)\n",
    "\n",
    "print(img.shape)"
   ]
  },
  {
   "cell_type": "code",
   "execution_count": 27,
   "metadata": {},
   "outputs": [
    {
     "name": "stdout",
     "output_type": "stream",
     "text": [
      "['serving_default']\n",
      "{'model_3': TensorSpec(shape=(None, 1), dtype=tf.float32, name='model_3')}\n",
      "{'model_3': <tf.Tensor: id=442135, shape=(1, 1), dtype=float32, numpy=array([[0.9992717]], dtype=float32)>}\n",
      "model_3\n",
      "0.9992716908454895\n",
      "label:  non-COVID\n"
     ]
    }
   ],
   "source": [
    "signature_keys = list(saved_model_loaded.signatures.keys())\n",
    "print(signature_keys)\n",
    "\n",
    "infer = saved_model_loaded.signatures['serving_default']\n",
    "print(infer.structured_outputs)\n",
    "\n",
    "pred = infer(img)\n",
    "print(pred)\n",
    "\n",
    "key = list(pred.keys())[0]\n",
    "print(key)\n",
    "\n",
    "val = pred['model_3'].numpy().item(0)\n",
    "print(val)\n",
    "\n",
    "idx = int(np.round(val))\n",
    "label = label_list[idx]\n",
    "\n",
    "print(\"label: \", label)"
   ]
  },
  {
   "cell_type": "markdown",
   "metadata": {},
   "source": [
    "### Predict Function"
   ]
  },
  {
   "cell_type": "code",
   "execution_count": 28,
   "metadata": {},
   "outputs": [],
   "source": [
    "# MAKE inference Function\n",
    "def predict_cxr(image_path):\n",
    "    img_size = (299, 299)\n",
    "    label_list = ['COVID','non-COVID']\n",
    "    img = tf.keras.preprocessing.image.load_img(image_path, target_size=img_size)\n",
    "    img = tf.keras.preprocessing.image.img_to_array(img)\n",
    "    img /= 255.0\n",
    "    img = np.expand_dims(img, axis=0)\n",
    "    img = tf.constant(img)\n",
    "    \n",
    "    signature_keys = list(saved_model_loaded.signatures.keys())\n",
    "    \n",
    "    infer = saved_model_loaded.signatures['serving_default']\n",
    "    \n",
    "    pred = infer(img)\n",
    "    \n",
    "    key = list(pred.keys())[0]\n",
    "    val = pred[key].numpy().item(0)\n",
    "    \n",
    "    idx = int(np.round(val))\n",
    "    label = label_list[idx]\n",
    "\n",
    "    return label"
   ]
  },
  {
   "cell_type": "code",
   "execution_count": 29,
   "metadata": {},
   "outputs": [],
   "source": [
    "# image path - COVID\n",
    "image_path=\"data/TRAIN/COVID/0.jpeg\"\n",
    "\n",
    "# image path - NON-COVID\n",
    "# image_path = \"data/TRAIN/non-COVID/00293de0-a530-41dc-9621-0b3def01d06d.jpg\""
   ]
  },
  {
   "cell_type": "code",
   "execution_count": 30,
   "metadata": {},
   "outputs": [
    {
     "name": "stdout",
     "output_type": "stream",
     "text": [
      "경과 시간:  0.36749696731567383\n",
      "label:  COVID\n"
     ]
    }
   ],
   "source": [
    "# PREDICT CXR image\n",
    "start_time = time.time()\n",
    "label = predict_cxr(image_path)\n",
    "end_time = time.time()\n",
    "\n",
    "elapsed_time = end_time - start_time\n",
    "print(\"경과 시간: \", elapsed_time)\n",
    "\n",
    "print(\"label: \", label)"
   ]
  },
  {
   "cell_type": "markdown",
   "metadata": {},
   "source": [
    "## TF-TRT FP16 model"
   ]
  },
  {
   "cell_type": "code",
   "execution_count": 31,
   "metadata": {},
   "outputs": [
    {
     "name": "stdout",
     "output_type": "stream",
     "text": [
      "Converting to TF-TRT FP16...\n",
      "INFO:tensorflow:Linked TensorRT version: (0, 0, 0)\n",
      "INFO:tensorflow:Loaded TensorRT version: (0, 0, 0)\n",
      "INFO:tensorflow:Running against TensorRT version 0.0.0\n",
      "INFO:tensorflow:Assets written to: ./model/FP16_saved_model/assets\n",
      "Done Converting to TF-TRT FP16\n"
     ]
    }
   ],
   "source": [
    "print('Converting to TF-TRT FP16...')\n",
    "\n",
    "conversion_params = trt.DEFAULT_TRT_CONVERSION_PARAMS._replace(\n",
    "    precision_mode=trt.TrtPrecisionMode.FP16,\n",
    "    max_workspace_size_bytes=8000000000)\n",
    "\n",
    "converter = trt.TrtGraphConverterV2(\n",
    "   input_saved_model_dir='./model/saved_model', conversion_params=conversion_params)\n",
    "\n",
    "converter.convert()\n",
    "\n",
    "converter.save(output_saved_model_dir='./model/FP16_saved_model')\n",
    "\n",
    "print('Done Converting to TF-TRT FP16')"
   ]
  },
  {
   "cell_type": "code",
   "execution_count": 32,
   "metadata": {},
   "outputs": [],
   "source": [
    "# LOAD FP16 saved model\n",
    "input_saved_model = \"./model/FP16_saved_model\"\n",
    "\n",
    "saved_model_loaded = tf.saved_model.load(input_saved_model, tags=[tag_constants.SERVING])"
   ]
  },
  {
   "cell_type": "code",
   "execution_count": 33,
   "metadata": {},
   "outputs": [],
   "source": [
    "# image path - COVID\n",
    "image_path=\"data/TRAIN/COVID/0.jpeg\"\n",
    "\n",
    "# image path - NON-COVID\n",
    "# image_path = \"data/TRAIN/non-COVID/00293de0-a530-41dc-9621-0b3def01d06d.jpg\""
   ]
  },
  {
   "cell_type": "code",
   "execution_count": 37,
   "metadata": {},
   "outputs": [
    {
     "name": "stdout",
     "output_type": "stream",
     "text": [
      "경과 시간:  0.49012207984924316\n",
      "label:  COVID\n"
     ]
    }
   ],
   "source": [
    "# PREDICT CXR image\n",
    "start_time = time.time()\n",
    "label = predict_cxr(image_path)\n",
    "end_time = time.time()\n",
    "\n",
    "elapsed_time = end_time - start_time\n",
    "print(\"경과 시간: \", elapsed_time)\n",
    "\n",
    "print(\"label: \", label)"
   ]
  },
  {
   "cell_type": "markdown",
   "metadata": {},
   "source": [
    "# TOTAL"
   ]
  },
  {
   "cell_type": "markdown",
   "metadata": {},
   "source": [
    "### 속도 체크하기 - 방법1"
   ]
  },
  {
   "cell_type": "code",
   "execution_count": 62,
   "metadata": {},
   "outputs": [
    {
     "name": "stdout",
     "output_type": "stream",
     "text": [
      "1069\n",
      "100\n",
      "6092\n",
      "100\n"
     ]
    }
   ],
   "source": [
    "covid_lst = os.listdir('./data/TRAIN/COVID')\n",
    "covid_lst.pop(covid_lst.index(\".ipynb_checkpoints\"))\n",
    "print(len(covid_lst))\n",
    "\n",
    "covid_lst = covid_lst[:100]\n",
    "print(len(covid_lst))\n",
    "\n",
    "non_covid_lst = os.listdir('./data/TRAIN/non-COVID')\n",
    "non_covid_lst.pop(non_covid_lst.index(\".ipynb_checkpoints\"))\n",
    "print(len(non_covid_lst))\n",
    "\n",
    "non_covid_lst = non_covid_lst[:100]\n",
    "print(len(non_covid_lst))"
   ]
  },
  {
   "cell_type": "code",
   "execution_count": 64,
   "metadata": {},
   "outputs": [],
   "source": [
    "# batch_size = len(covid_lst)\n",
    "# batched_input = np.zeros((batch_size, 299, 299, 3), dtype=np.float32)\n",
    "\n",
    "# for idx in tqdm(range(batch_size)):\n",
    "#     image_path = \"./data/TRAIN/COVID/\" + covid_lst[idx]\n",
    "#     img_size = (299, 299)\n",
    "    \n",
    "#     img = tf.keras.preprocessing.image.load_img(image_path, target_size=img_size)\n",
    "#     img = tf.keras.preprocessing.image.img_to_array(img)\n",
    "#     img /= 255.0\n",
    "#     img = np.expand_dims(img, axis=0)\n",
    "#     batched_input[idx, :] = img\n",
    "    \n",
    "# batched_input = tf.constant(batched_input)\n",
    "\n",
    "# print('batched_input shape: ', batched_input.shape)"
   ]
  },
  {
   "cell_type": "code",
   "execution_count": 65,
   "metadata": {},
   "outputs": [],
   "source": [
    "# def benchmark_tftrt(input_saved_model):\n",
    "#     saved_model_loaded = tf.saved_model.load(input_saved_model, tags=[tag_constants.SERVING])\n",
    "#     infer = saved_model_loaded.signatures['serving_default']\n",
    "\n",
    "#     N_warmup_run = 50\n",
    "#     N_run = 1000\n",
    "#     elapsed_time = []\n",
    "    \n",
    "# #     for i in tqdm(range(N_warmup_run)):\n",
    "# #       labeling = infer(batched_input)\n",
    "\n",
    "#     for i in tqdm(range(N_run)):\n",
    "#       start_time = time.time()\n",
    "#       labeling = infer(batched_input)\n",
    "#       #prob = labeling['probs'].numpy()\n",
    "#       end_time = time.time()\n",
    "#       elapsed_time = np.append(elapsed_time, end_time - start_time)\n",
    "#       if i % 50 == 0:\n",
    "#         print('Step {}: {:4.1f}ms'.format(i, (elapsed_time[-50:].mean()) * 1000))\n",
    "\n",
    "#     print('Throughput: {:.0f} images/s'.format(N_run * batch_size / elapsed_time.sum()))"
   ]
  },
  {
   "cell_type": "code",
   "execution_count": 66,
   "metadata": {},
   "outputs": [],
   "source": [
    "# benchmark_tftrt(\"./model/FP32_saved_model\")"
   ]
  },
  {
   "cell_type": "markdown",
   "metadata": {},
   "source": [
    "### 속도 체크하기 - 방법2"
   ]
  },
  {
   "cell_type": "code",
   "execution_count": 38,
   "metadata": {},
   "outputs": [],
   "source": [
    "def predict_cxr(image_path, saved_model):\n",
    "    img_size = (299, 299)\n",
    "    label_list = ['COVID','non-COVID']\n",
    "    img = tf.keras.preprocessing.image.load_img(image_path, target_size=img_size)\n",
    "    img = tf.keras.preprocessing.image.img_to_array(img)\n",
    "    img /= 255.0\n",
    "    img = np.expand_dims(img, axis=0)\n",
    "    img = tf.constant(img)\n",
    "    signature_keys = list(saved_model.signatures.keys())\n",
    "    infer = saved_model.signatures['serving_default']\n",
    "    pred = infer(img)\n",
    "    key = list(pred.keys())[0]\n",
    "    val = pred[key].numpy().item(0)\n",
    "    idx = int(np.round(val))\n",
    "    label = label_list[idx]\n",
    "    return label"
   ]
  },
  {
   "cell_type": "code",
   "execution_count": 39,
   "metadata": {},
   "outputs": [],
   "source": [
    "# image path - COVID\n",
    "image_path=\"data/TRAIN/COVID/0.jpeg\"\n",
    "\n",
    "# image path - NON-COVID\n",
    "# image_path = \"data/TRAIN/non-COVID/00293de0-a530-41dc-9621-0b3def01d06d.jpg\""
   ]
  },
  {
   "cell_type": "markdown",
   "metadata": {},
   "source": [
    "### LOAD MODEL"
   ]
  },
  {
   "cell_type": "code",
   "execution_count": 47,
   "metadata": {},
   "outputs": [],
   "source": [
    "native_model = tf.saved_model.load(\"./model/saved_model\", tags=[tag_constants.SERVING])"
   ]
  },
  {
   "cell_type": "code",
   "execution_count": 43,
   "metadata": {},
   "outputs": [],
   "source": [
    "FP32_model = tf.saved_model.load(\"./model/FP32_saved_model\", tags=[tag_constants.SERVING])"
   ]
  },
  {
   "cell_type": "code",
   "execution_count": 45,
   "metadata": {},
   "outputs": [],
   "source": [
    "FP16_model = tf.saved_model.load(\"./model/FP16_saved_model\", tags=[tag_constants.SERVING])"
   ]
  },
  {
   "cell_type": "code",
   "execution_count": 58,
   "metadata": {},
   "outputs": [
    {
     "name": "stdout",
     "output_type": "stream",
     "text": [
      "<tensorflow.python.saved_model.load.Loader._recreate_base_user_object.<locals>._UserObject object at 0x7f602c6e7198>\n",
      "label: COVID, 경과 시간: 0.4170095920562744\n"
     ]
    }
   ],
   "source": [
    "start_time = time.time()\n",
    "label = predict_cxr(image_path, native_model)\n",
    "end_time = time.time()\n",
    "print(native_model)\n",
    "print(f\"label: {label}, 경과 시간: {end_time-start_time}\")"
   ]
  },
  {
   "cell_type": "code",
   "execution_count": 64,
   "metadata": {},
   "outputs": [
    {
     "name": "stdout",
     "output_type": "stream",
     "text": [
      "<tensorflow.python.saved_model.load.Loader._recreate_base_user_object.<locals>._UserObject object at 0x7f6080de5b00>\n",
      "label: COVID, 경과 시간: 0.3546781539916992\n"
     ]
    }
   ],
   "source": [
    "start_time = time.time()\n",
    "label = predict_cxr(image_path, FP32_model)\n",
    "end_time = time.time()\n",
    "print(FP32_model)\n",
    "print(f\"label: {label}, 경과 시간: {end_time-start_time}\")"
   ]
  },
  {
   "cell_type": "code",
   "execution_count": 65,
   "metadata": {},
   "outputs": [
    {
     "name": "stdout",
     "output_type": "stream",
     "text": [
      "<tensorflow.python.saved_model.load.Loader._recreate_base_user_object.<locals>._UserObject object at 0x7f6057264390>\n",
      "label: COVID, 경과 시간: 0.37476181983947754\n"
     ]
    }
   ],
   "source": [
    "start_time = time.time()\n",
    "label = predict_cxr(image_path, FP16_model)\n",
    "end_time = time.time()\n",
    "print(FP16_model)\n",
    "print(f\"label: {label}, 경과 시간: {end_time-start_time}\")"
   ]
  },
  {
   "cell_type": "code",
   "execution_count": null,
   "metadata": {},
   "outputs": [],
   "source": []
  }
 ],
 "metadata": {
  "kernelspec": {
   "display_name": "Python 3",
   "language": "python",
   "name": "python3"
  },
  "language_info": {
   "codemirror_mode": {
    "name": "ipython",
    "version": 3
   },
   "file_extension": ".py",
   "mimetype": "text/x-python",
   "name": "python",
   "nbconvert_exporter": "python",
   "pygments_lexer": "ipython3",
   "version": "3.6.9"
  }
 },
 "nbformat": 4,
 "nbformat_minor": 4
}
