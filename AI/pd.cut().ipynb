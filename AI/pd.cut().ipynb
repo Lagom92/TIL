{
 "cells": [
  {
   "cell_type": "markdown",
   "metadata": {},
   "source": [
    "# Pandas.cut"
   ]
  },
  {
   "cell_type": "markdown",
   "metadata": {},
   "source": [
    "- 카테고리로 범주화 할 때 사용된다.\n",
    "\n",
    "- 동일한 길이로 나누어서 범주를 만들때 사용\n",
    "\n",
    "- 동일한 개수로 나누어서 범주를 만드는 pd.qcut()도 있다."
   ]
  },
  {
   "cell_type": "code",
   "execution_count": 30,
   "metadata": {},
   "outputs": [],
   "source": [
    "import pandas as pd"
   ]
  },
  {
   "cell_type": "markdown",
   "metadata": {},
   "source": [
    "## pd.cut() 사용하기"
   ]
  },
  {
   "cell_type": "markdown",
   "metadata": {},
   "source": [
    "### 나이 데이터"
   ]
  },
  {
   "cell_type": "code",
   "execution_count": 12,
   "metadata": {},
   "outputs": [
    {
     "output_type": "execute_result",
     "data": {
      "text/plain": "[0, 2, 10, 21, 23, 37, 31, 61, 20, 41, 32, 100]"
     },
     "metadata": {},
     "execution_count": 12
    }
   ],
   "source": [
    "ages = [0, 2, 10, 21, 23, 37, 31, 61, 20, 41, 32, 100]\n",
    "ages"
   ]
  },
  {
   "cell_type": "markdown",
   "metadata": {},
   "source": [
    "- `cut` 명령을 사용하면 카테고리 값으로 바꿀 수 있다.\n",
    "\n",
    "- `bins` 인수는 카테고리를 나누는 기준값이 된다.\n",
    "\n",
    "- 영역을 넘는 값은 NaN 으로 처리가 된다."
   ]
  },
  {
   "cell_type": "code",
   "execution_count": 13,
   "metadata": {},
   "outputs": [
    {
     "output_type": "execute_result",
     "data": {
      "text/plain": "[NaN, 미성년자, 미성년자, 청년, 청년, ..., 노년, 청년, 장년, 중년, NaN]\nLength: 12\nCategories (5, object): [미성년자 < 청년 < 중년 < 장년 < 노년]"
     },
     "metadata": {},
     "execution_count": 13
    }
   ],
   "source": [
    "bins = [1, 15, 25, 35, 60, 99]\n",
    "labels = ['미성년자', '청년', '중년', '장년', '노년']\n",
    "cats = pd.cut(ages, bins, labels=labels)\n",
    "cats"
   ]
  },
  {
   "cell_type": "code",
   "execution_count": 15,
   "metadata": {},
   "outputs": [
    {
     "output_type": "execute_result",
     "data": {
      "text/plain": "pandas.core.arrays.categorical.Categorical"
     },
     "metadata": {},
     "execution_count": 15
    }
   ],
   "source": [
    "type(cats)"
   ]
  },
  {
   "cell_type": "markdown",
   "metadata": {},
   "source": [
    "- `cut` 명령이 반환하는 값은 Categorical 클래스 객체이다.\n",
    "\n",
    "- 이 객체는 `categories` 속성으로 라벨 문자열을, `codes` 속성으로 정수로 인코딩한 카테고리 값을 가진다."
   ]
  },
  {
   "cell_type": "code",
   "execution_count": 16,
   "metadata": {},
   "outputs": [
    {
     "output_type": "execute_result",
     "data": {
      "text/plain": "Index(['미성년자', '청년', '중년', '장년', '노년'], dtype='object')"
     },
     "metadata": {},
     "execution_count": 16
    }
   ],
   "source": [
    "cats.categories"
   ]
  },
  {
   "cell_type": "code",
   "execution_count": 17,
   "metadata": {},
   "outputs": [
    {
     "output_type": "execute_result",
     "data": {
      "text/plain": "array([-1,  0,  0,  1,  1,  3,  2,  4,  1,  3,  2, -1], dtype=int8)"
     },
     "metadata": {},
     "execution_count": 17
    }
   ],
   "source": [
    "cats.codes"
   ]
  },
  {
   "cell_type": "code",
   "execution_count": 21,
   "metadata": {},
   "outputs": [],
   "source": [
    "df_age = pd.DataFrame(ages, columns=['ages'])\n",
    "df_age['age_cut'] = pd.cut(df_age.ages, bins, labels=labels)"
   ]
  },
  {
   "cell_type": "code",
   "execution_count": 22,
   "metadata": {},
   "outputs": [
    {
     "output_type": "execute_result",
     "data": {
      "text/plain": "    ages age_cut\n0      0     NaN\n1      2    미성년자\n2     10    미성년자\n3     21      청년\n4     23      청년\n5     37      장년\n6     31      중년\n7     61      노년\n8     20      청년\n9     41      장년\n10    32      중년\n11   100     NaN",
      "text/html": "<div>\n<style scoped>\n    .dataframe tbody tr th:only-of-type {\n        vertical-align: middle;\n    }\n\n    .dataframe tbody tr th {\n        vertical-align: top;\n    }\n\n    .dataframe thead th {\n        text-align: right;\n    }\n</style>\n<table border=\"1\" class=\"dataframe\">\n  <thead>\n    <tr style=\"text-align: right;\">\n      <th></th>\n      <th>ages</th>\n      <th>age_cut</th>\n    </tr>\n  </thead>\n  <tbody>\n    <tr>\n      <th>0</th>\n      <td>0</td>\n      <td>NaN</td>\n    </tr>\n    <tr>\n      <th>1</th>\n      <td>2</td>\n      <td>미성년자</td>\n    </tr>\n    <tr>\n      <th>2</th>\n      <td>10</td>\n      <td>미성년자</td>\n    </tr>\n    <tr>\n      <th>3</th>\n      <td>21</td>\n      <td>청년</td>\n    </tr>\n    <tr>\n      <th>4</th>\n      <td>23</td>\n      <td>청년</td>\n    </tr>\n    <tr>\n      <th>5</th>\n      <td>37</td>\n      <td>장년</td>\n    </tr>\n    <tr>\n      <th>6</th>\n      <td>31</td>\n      <td>중년</td>\n    </tr>\n    <tr>\n      <th>7</th>\n      <td>61</td>\n      <td>노년</td>\n    </tr>\n    <tr>\n      <th>8</th>\n      <td>20</td>\n      <td>청년</td>\n    </tr>\n    <tr>\n      <th>9</th>\n      <td>41</td>\n      <td>장년</td>\n    </tr>\n    <tr>\n      <th>10</th>\n      <td>32</td>\n      <td>중년</td>\n    </tr>\n    <tr>\n      <th>11</th>\n      <td>100</td>\n      <td>NaN</td>\n    </tr>\n  </tbody>\n</table>\n</div>"
     },
     "metadata": {},
     "execution_count": 22
    }
   ],
   "source": [
    "df_age"
   ]
  },
  {
   "cell_type": "markdown",
   "metadata": {},
   "source": [
    "### 단순 구간 나누기\n",
    "\n",
    "- 5개의 동일한 길이로 범주 나누기"
   ]
  },
  {
   "cell_type": "code",
   "execution_count": 28,
   "metadata": {},
   "outputs": [
    {
     "output_type": "execute_result",
     "data": {
      "text/plain": "[(-0.1, 20.0], (-0.1, 20.0], (-0.1, 20.0], (20.0, 40.0], (20.0, 40.0], ..., (60.0, 80.0], (-0.1, 20.0], (40.0, 60.0], (20.0, 40.0], (80.0, 100.0]]\nLength: 12\nCategories (5, interval[float64]): [(-0.1, 20.0] < (20.0, 40.0] < (40.0, 60.0] < (60.0, 80.0] < (80.0, 100.0]]"
     },
     "metadata": {},
     "execution_count": 28
    }
   ],
   "source": [
    "cats = pd.cut(ages, 5)\n",
    "\n",
    "cats"
   ]
  },
  {
   "cell_type": "code",
   "execution_count": 29,
   "metadata": {},
   "outputs": [
    {
     "output_type": "execute_result",
     "data": {
      "text/plain": "(-0.1, 20.0]     4\n(20.0, 40.0]     5\n(40.0, 60.0]     1\n(60.0, 80.0]     1\n(80.0, 100.0]    1\ndtype: int64"
     },
     "metadata": {},
     "execution_count": 29
    }
   ],
   "source": [
    "# 구간 확인하기\n",
    "cats.value_counts()"
   ]
  },
  {
   "cell_type": "markdown",
   "metadata": {},
   "source": [
    "<br/>\n",
    "\n",
    "------\n",
    "\n",
    "### Reference\n",
    "\n",
    "- https://datascienceschool.net/view-notebook/aa62265f02fc429aa636ef343c3b1fda/\n",
    "\n",
    "- https://pandas.pydata.org/pandas-docs/stable/reference/api/pandas.cut.html"
   ]
  }
 ],
 "metadata": {
  "language_info": {
   "codemirror_mode": {
    "name": "ipython",
    "version": 3
   },
   "file_extension": ".py",
   "mimetype": "text/x-python",
   "name": "python",
   "nbconvert_exporter": "python",
   "pygments_lexer": "ipython3",
   "version": 3
  },
  "orig_nbformat": 2,
  "kernelspec": {
   "name": "python_defaultSpec_1594548689157",
   "display_name": "Python 3.7.6 64-bit ('Lagom': virtualenv)"
  }
 },
 "nbformat": 4,
 "nbformat_minor": 2
}