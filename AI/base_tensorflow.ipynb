{
 "metadata": {
  "language_info": {
   "codemirror_mode": {
    "name": "ipython",
    "version": 3
   },
   "file_extension": ".py",
   "mimetype": "text/x-python",
   "name": "python",
   "nbconvert_exporter": "python",
   "pygments_lexer": "ipython3",
   "version": "3.7.7-final"
  },
  "orig_nbformat": 2,
  "kernelspec": {
   "name": "python_defaultSpec_1599440178731",
   "display_name": "Python 3.7.7 64-bit ('study': conda)"
  }
 },
 "nbformat": 4,
 "nbformat_minor": 2,
 "cells": [
  {
   "cell_type": "markdown",
   "metadata": {},
   "source": [
    "# Tensorflow 기초 공부\n",
    "\n",
    "<br/>\n",
    "\n",
    "참고\n",
    "\n",
    "elice - 텐서플로우와 인공신경망"
   ]
  },
  {
   "cell_type": "markdown",
   "metadata": {},
   "source": [
    "## 텐서플로우(Tensorflow)\n",
    "\n",
    "- 유연하고, 효율적이며, 확장성이 있는 딥러닝 프레임워크\n",
    "\n",
    "- 대형 클러스터 컴퓨터부터 스마트폰까지 다양한 디바이스에서 동작\n",
    "\n",
    "- 지원하는 언어: Python2/3, C/C++ 등"
   ]
  },
  {
   "cell_type": "markdown",
   "metadata": {},
   "source": [
    "## 텐서(Tensor) ?\n",
    "\n",
    "- Tensor = Multidimensional Arrays = Data\n",
    "\n",
    "- 딥러닝에서 텐서는 다차원 배열로 나타내는 데이터\n",
    "\n",
    "- 예를 들어, RGB 이미지는 삼차원 배열로 나타나는 텐서\n",
    "\n",
    "## 플로우(Flow) ?\n",
    "\n",
    "- 플로우는 데이터의 흐름을 의미\n",
    "\n",
    "- 텐서플로우에서 계산은 데이터 플로우 그래프로 수행\n",
    "\n",
    "- 그래프를 따라 데이터가 노드를 거쳐 흘러가면서 계산\n",
    "\n",
    "\n",
    "<br/>\n",
    "\n",
    "## 텐서 + 플로우\n",
    "\n",
    "- 딥러닝에서 데이터를 의미하는 텐서(Tensor)와 데이터 플로우 그래프를 따라 연산이 수행되는 형태(Flow)의 합"
   ]
  },
  {
   "cell_type": "markdown",
   "metadata": {},
   "source": [
    "# Tensorflow 기초 사용법"
   ]
  },
  {
   "cell_type": "code",
   "execution_count": 9,
   "metadata": {},
   "outputs": [],
   "source": [
    "import tensorflow as tf"
   ]
  },
  {
   "cell_type": "markdown",
   "metadata": {},
   "source": [
    "## 상수 선언 하기"
   ]
  },
  {
   "cell_type": "code",
   "execution_count": 10,
   "metadata": {
    "tags": []
   },
   "outputs": [
    {
     "output_type": "stream",
     "name": "stdout",
     "text": "tf.Tensor(2, shape=(), dtype=int32)\n"
    }
   ],
   "source": [
    "# 상수형 텐서 선언\n",
    "value = 2\n",
    "a = tf.constant(value)\n",
    "\n",
    "print(a)"
   ]
  },
  {
   "cell_type": "markdown",
   "metadata": {},
   "source": [
    "```\n",
    "tf.constant(value, dtype=None, shape=None, name=None)\n",
    "```\n",
    "\n",
    "<br/>\n",
    "\n",
    "value: 반환되는 상수값\n",
    "\n",
    "shape: Tensor의 차원\n",
    "\n",
    "dtype: 반환되는 Tensor 타입\n",
    "\n",
    "name: 상수 이름"
   ]
  },
  {
   "cell_type": "code",
   "execution_count": 11,
   "metadata": {
    "tags": []
   },
   "outputs": [
    {
     "output_type": "stream",
     "name": "stdout",
     "text": "tf.Tensor(\n[[0. 0. 0.]\n [0. 0. 0.]\n [0. 0. 0.]], shape=(3, 3), dtype=float32)\ntf.Tensor(\n[[1. 1. 1.]\n [1. 1. 1.]\n [1. 1. 1.]], shape=(3, 3), dtype=float32)\n"
    }
   ],
   "source": [
    "# 모든 원소 값이 0인 Tensor 생성\n",
    "shape = (3, 3)\n",
    "b = tf.zeros(shape, dtype=tf.float32, name=None)\n",
    "print(b)\n",
    "\n",
    "# 모든 원소 값이 1인 Tensor 생성\n",
    "shape = (3, 3)\n",
    "c = tf.ones(shape, dtype=tf.float32, name=None)\n",
    "print(c)"
   ]
  },
  {
   "cell_type": "markdown",
   "metadata": {},
   "source": [
    "## 시퀀스 선언 하기"
   ]
  },
  {
   "cell_type": "code",
   "execution_count": 16,
   "metadata": {
    "tags": []
   },
   "outputs": [
    {
     "output_type": "stream",
     "name": "stdout",
     "text": "tf.Tensor([ 1.  4.  7. 10.], shape=(4,), dtype=float32)\n"
    }
   ],
   "source": [
    "# start에서 stop까지 증가하는 num 개수 데이터\n",
    "start = 1.0\n",
    "stop = 10.0\n",
    "num = 4\n",
    "\n",
    "d = tf.linspace(start, stop, num)\n",
    "print(d)"
   ]
  },
  {
   "cell_type": "markdown",
   "metadata": {},
   "source": [
    "```\n",
    "tf.linspace(start, stop, num, name=None)\n",
    "```\n",
    "\n",
    "<br/>\n",
    "\n",
    "start: 시작 값\n",
    "\n",
    "stop: 끝 값\n",
    "\n",
    "num: 생성할 데이터 개수\n",
    "\n",
    "name: 시퀀스 이름"
   ]
  },
  {
   "cell_type": "code",
   "execution_count": 18,
   "metadata": {
    "tags": []
   },
   "outputs": [
    {
     "output_type": "stream",
     "name": "stdout",
     "text": "tf.Tensor([1 3 5 7 9], shape=(5,), dtype=int32)\n"
    }
   ],
   "source": [
    "# start에서 stop까지 delta씩 증가하는 데이터\n",
    "start = 1\n",
    "e = tf.range(start, limit=10, delta=2)\n",
    "print(e)"
   ]
  },
  {
   "cell_type": "markdown",
   "metadata": {},
   "source": [
    "```\n",
    "tf.range(start, limit=None, delta=None, name=None)\n",
    "```\n",
    "\n",
    "start: 시작 값\n",
    "\n",
    "limit: 끝 값\n",
    "\n",
    "delta: 증가량\n",
    "\n",
    "name: 시퀀스 이름"
   ]
  },
  {
   "cell_type": "markdown",
   "metadata": {},
   "source": [
    "## 난수 선언 하기"
   ]
  },
  {
   "cell_type": "code",
   "execution_count": 19,
   "metadata": {
    "tags": []
   },
   "outputs": [
    {
     "output_type": "stream",
     "name": "stdout",
     "text": "tf.Tensor(\n[[ 0.5936705  -0.60002565 -0.48701406]\n [ 0.21864748 -0.19882569 -1.059637  ]\n [-0.38632095  1.2279316  -0.3273219 ]], shape=(3, 3), dtype=float32)\n"
    },
    {
     "output_type": "execute_result",
     "data": {
      "text/plain": "<tf.Tensor: id=67, shape=(3, 3), dtype=float32, numpy=\narray([[8.759666 , 3.7643285, 2.7700844],\n       [8.465096 , 4.2958794, 3.7422423],\n       [5.1935124, 7.6073804, 9.781977 ]], dtype=float32)>"
     },
     "metadata": {},
     "execution_count": 19
    }
   ],
   "source": [
    "# 정규분포 생성\n",
    "shape = (3, 3)\n",
    "f = tf.random.normal(shape, mean=0.0, stddev=1.0, dtype=tf.float32, seed=None, name='normal')\n",
    "print(f)\n",
    "\n",
    "# 균등분포 생성\n",
    "tf.random.uniform(shape, minval=10, maxval=None, dtype=tf.float32, seed=None, name='uniform')"
   ]
  },
  {
   "cell_type": "code",
   "execution_count": null,
   "metadata": {},
   "outputs": [],
   "source": []
  }
 ]
}